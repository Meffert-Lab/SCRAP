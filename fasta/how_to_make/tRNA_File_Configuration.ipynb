{
 "cells": [
  {
   "cell_type": "markdown",
   "id": "bc59b74a-76d6-4485-bd40-e7327f8afc2a",
   "metadata": {},
   "source": [
    "Add links to tRNA FASTA files from GtRNAdb (http://gtrnadb.ucsc.edu)"
   ]
  },
  {
   "cell_type": "code",
   "execution_count": null,
   "id": "62cd058b-155b-4a7a-a3d9-39e5bedc1f69",
   "metadata": {},
   "outputs": [],
   "source": [
    "hsa_link=\"http://gtrnadb.ucsc.edu/genomes/eukaryota/Hsapi38/hg38-tRNAs.fa\" #Homo Spapiens (hg38)\n",
    "mmu_link=\"http://gtrnadb.ucsc.edu/genomes/eukaryota/Mmusc10/mm10-tRNAs.fa\" #Mus musculus (mm10)\n",
    "rno_link=\"http://gtrnadb.ucsc.edu/GtRNAdb2/genomes/eukaryota/Rnorv7/rn7-tRNAs.fa\" #Rattus norvegicus (rn7)\n",
    "dre_link=\"http://gtrnadb.ucsc.edu/GtRNAdb2/genomes/eukaryota/Dreri11/danRer11-tRNAs.fa\" #Danio rerio (danRer11)\n",
    "xtr_link=\"http://gtrnadb.ucsc.edu/GtRNAdb2/genomes/eukaryota/Xtrop9/xenTro9-tRNAs.fa\" #Xenopus tropicalis (xenTro9)\n",
    "dme_link=\"http://gtrnadb.ucsc.edu/genomes/eukaryota/Dmela6/dm6-tRNAs.fa\" #Drosophila melanogaster (dm6)\n",
    "cel_link=\"http://gtrnadb.ucsc.edu/genomes/eukaryota/Celeg11/ce11-tRNAs.fa\" #Caenorhabditis elegans (ce11)\n",
    "ath_link=\"http://gtrnadb.ucsc.edu/genomes/eukaryota/Athal10/araTha1-tRNAs.fa\" #Arabidopsis thaliana (TAIR10)\n",
    "\n",
    "list_of_species=\"\n",
    "hsa\n",
    "mmu\n",
    "rno\n",
    "dre\n",
    "xtr\n",
    "cel\n",
    "dme\n",
    "ath\""
   ]
  },
  {
   "cell_type": "markdown",
   "id": "3b08de8e-6ea0-487d-8e26-55d68099ca30",
   "metadata": {},
   "source": [
    "File contains line breaks within FASTA seqeunce that can cause downstream issues. Remove line breaks as described here: https://stackoverflow.com/questions/15857088/remove-line-breaks-in-a-fasta-file. Add \"hsa_\" to the beginning of the read name so that it can be retrieved later. Print only the read name and sequence (remove SE ID, length, chromosome position, etc.)."
   ]
  },
  {
   "cell_type": "code",
   "execution_count": null,
   "id": "b6a9fee9-d1b7-4e62-b58b-794b5a4797c6",
   "metadata": {},
   "outputs": [],
   "source": [
    "for species in $list_of_species\n",
    "do\n",
    "\n",
    "url=\"${species}_link\"\n",
    "\n",
    "wget ${!url} -O ${species}.fa\n",
    "\n",
    "awk '!/^>/ { printf \"%s\", $0; n = \"\\n\" } /^>/ { print n $0; n = \"\" } END { printf \"%s\", n }' ${species}.fa | \\\n",
    "    sed 's/>/>'${species}'_/' | \\\n",
    "    awk '{print $1}' \\\n",
    "    > ${species}_tRNA.fasta\n",
    "\n",
    "rm ${species}.fa\n",
    "\n",
    "done"
   ]
  },
  {
   "cell_type": "markdown",
   "id": "1fe81c60-8e75-4d9b-87e5-d9ff939dd7d0",
   "metadata": {},
   "source": [
    "Combine individual fasta files to create GtRNAdb reference FASTA file"
   ]
  },
  {
   "cell_type": "code",
   "execution_count": null,
   "id": "a5872f15-199d-4833-85ad-a6e69004ea0d",
   "metadata": {},
   "outputs": [],
   "source": [
    "touch tmp.combined.fasta\n",
    "\n",
    "for species in $list_of_species\n",
    "do\n",
    "\n",
    "cat tmp.combined.fasta ${species}_tRNA.fasta > tmp2.combined.fasta\n",
    "\n",
    "mv tmp2.combined.fasta tmp.combined.fasta\n",
    "\n",
    "done\n",
    "\n",
    "mv tmp.combined.fasta GtRNAdb.fasta"
   ]
  }
 ],
 "metadata": {
  "kernelspec": {
   "display_name": "Bash",
   "language": "bash",
   "name": "bash"
  },
  "language_info": {
   "codemirror_mode": "shell",
   "file_extension": ".sh",
   "mimetype": "text/x-sh",
   "name": "bash"
  }
 },
 "nbformat": 4,
 "nbformat_minor": 5
}
